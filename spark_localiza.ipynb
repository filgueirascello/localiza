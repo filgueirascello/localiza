{
  "nbformat": 4,
  "nbformat_minor": 0,
  "metadata": {
    "colab": {
      "provenance": []
    },
    "kernelspec": {
      "name": "python3",
      "display_name": "Python 3"
    },
    "language_info": {
      "name": "python"
    }
  },
  "cells": [
    {
      "cell_type": "markdown",
      "source": [
        "SPARK"
      ],
      "metadata": {
        "id": "BbYzcm2ap1jH"
      }
    },
    {
      "cell_type": "code",
      "execution_count": 1,
      "metadata": {
        "colab": {
          "base_uri": "https://localhost:8080/"
        },
        "id": "KyyTxtc8PT51",
        "outputId": "b2b3fde6-41dd-4f32-cc3f-ee573be0c65d"
      },
      "outputs": [
        {
          "output_type": "stream",
          "name": "stdout",
          "text": [
            "Requirement already satisfied: pyspark in /usr/local/lib/python3.10/dist-packages (3.5.2)\n",
            "Requirement already satisfied: py4j==0.10.9.7 in /usr/local/lib/python3.10/dist-packages (from pyspark) (0.10.9.7)\n"
          ]
        }
      ],
      "source": [
        "!pip install pyspark\n"
      ]
    },
    {
      "cell_type": "code",
      "source": [
        "from pyspark.sql import SparkSession\n",
        "from pyspark.sql import Window\n",
        "from pyspark.sql.functions import row_number, col, when, isnull, avg, count\n"
      ],
      "metadata": {
        "id": "pe2O6VuUqAnr"
      },
      "execution_count": 2,
      "outputs": []
    },
    {
      "cell_type": "code",
      "source": [
        "spark = SparkSession.builder\\\n",
        ".appName('localiza')\\\n",
        ".getOrCreate()"
      ],
      "metadata": {
        "id": "GIiHDzWsqSSH"
      },
      "execution_count": 3,
      "outputs": []
    },
    {
      "cell_type": "markdown",
      "source": [
        "CONEXÃO COM DRIVE"
      ],
      "metadata": {
        "id": "m1GSYGenp-oK"
      }
    },
    {
      "cell_type": "code",
      "source": [
        "from google.colab import drive\n",
        "drive.mount('/content/drive')"
      ],
      "metadata": {
        "colab": {
          "base_uri": "https://localhost:8080/"
        },
        "id": "WIwxKGDAeXQO",
        "outputId": "b03c172d-ae8a-4906-8974-ba913d6f5a6b"
      },
      "execution_count": 4,
      "outputs": [
        {
          "output_type": "stream",
          "name": "stdout",
          "text": [
            "Drive already mounted at /content/drive; to attempt to forcibly remount, call drive.mount(\"/content/drive\", force_remount=True).\n"
          ]
        }
      ]
    },
    {
      "cell_type": "markdown",
      "source": [
        "LEITURA DO CSV"
      ],
      "metadata": {
        "id": "JpIu-h_Mqsfv"
      }
    },
    {
      "cell_type": "code",
      "source": [
        "csv_file = '/content/drive/MyDrive/localiza/df_fraud_credit.csv'"
      ],
      "metadata": {
        "id": "ickUyGmpcXdq"
      },
      "execution_count": 5,
      "outputs": []
    },
    {
      "cell_type": "code",
      "source": [
        "\n",
        "df = spark.read.csv(csv_file, header=True, inferSchema=True)\n",
        "\n"
      ],
      "metadata": {
        "id": "1eG3PnRocIFN"
      },
      "execution_count": 6,
      "outputs": []
    },
    {
      "cell_type": "code",
      "source": [
        "#df.show()"
      ],
      "metadata": {
        "id": "8YIuw7TgVCn6"
      },
      "execution_count": 74,
      "outputs": []
    },
    {
      "cell_type": "markdown",
      "source": [
        "LIMPEZA DOS DADOS IMPORTADOS E QUALIDADE DOS DADOS\n",
        "\n"
      ],
      "metadata": {
        "id": "iLQ9apgCq3cy"
      }
    },
    {
      "cell_type": "code",
      "source": [
        "#COUNT TOTAL DA BASE\n",
        "count_total = df.count()"
      ],
      "metadata": {
        "id": "_1Hb7A6MVwSB"
      },
      "execution_count": 7,
      "outputs": []
    },
    {
      "cell_type": "code",
      "source": [
        "count_total"
      ],
      "metadata": {
        "colab": {
          "base_uri": "https://localhost:8080/"
        },
        "id": "IYaDrJcWvkWs",
        "outputId": "94faa186-bc40-4966-b96a-aa4e72cccfe8"
      },
      "execution_count": 8,
      "outputs": [
        {
          "output_type": "execute_result",
          "data": {
            "text/plain": [
              "9291894"
            ]
          },
          "metadata": {},
          "execution_count": 8
        }
      ]
    },
    {
      "cell_type": "code",
      "source": [
        "#COUNT BASE SEM DUPLICAÇÃO\n",
        "count_sem_duplicacao = df.dropDuplicates().count()"
      ],
      "metadata": {
        "id": "1rub8LGEV5OI"
      },
      "execution_count": 9,
      "outputs": []
    },
    {
      "cell_type": "code",
      "source": [
        "count_sem_duplicacao"
      ],
      "metadata": {
        "colab": {
          "base_uri": "https://localhost:8080/"
        },
        "id": "jSFsDLEYvoUj",
        "outputId": "9ed82c46-5c57-454d-9d45-8479a9af3d7e"
      },
      "execution_count": 10,
      "outputs": [
        {
          "output_type": "execute_result",
          "data": {
            "text/plain": [
              "9291892"
            ]
          },
          "metadata": {},
          "execution_count": 10
        }
      ]
    },
    {
      "cell_type": "markdown",
      "source": [
        "DF SEM DUPLICADAS"
      ],
      "metadata": {
        "id": "WYOyNLPEws8n"
      }
    },
    {
      "cell_type": "code",
      "source": [
        "df = df.dropDuplicates()"
      ],
      "metadata": {
        "id": "TWeQ38_Hwvdv"
      },
      "execution_count": 9,
      "outputs": []
    },
    {
      "cell_type": "code",
      "source": [
        "df.count()"
      ],
      "metadata": {
        "colab": {
          "base_uri": "https://localhost:8080/"
        },
        "id": "Camk0xMI0WtA",
        "outputId": "206d69c5-6903-4f99-9d0a-512e65660073"
      },
      "execution_count": 10,
      "outputs": [
        {
          "output_type": "execute_result",
          "data": {
            "text/plain": [
              "9291892"
            ]
          },
          "metadata": {},
          "execution_count": 10
        }
      ]
    },
    {
      "cell_type": "code",
      "source": [
        "#COLUNAS COM VALORES NULL\n",
        "\n",
        "valores_null = df.select([count(when(col(c).isNull(), c)).alias(c) for c in df.columns])\n"
      ],
      "metadata": {
        "id": "6Gi7V0Q1apyB"
      },
      "execution_count": 11,
      "outputs": []
    },
    {
      "cell_type": "code",
      "source": [
        "valores_null.show()\n"
      ],
      "metadata": {
        "colab": {
          "base_uri": "https://localhost:8080/"
        },
        "id": "hNQV9SbBavyn",
        "outputId": "6f7282d1-b094-4527-daa9-b7699f921742"
      },
      "execution_count": 12,
      "outputs": [
        {
          "output_type": "stream",
          "name": "stdout",
          "text": [
            "+---------+---------------+-----------------+------+----------------+---------------+---------+---------------+----------------+----------------+---------+----------+-------+\n",
            "|timestamp|sending_address|receiving_address|amount|transaction_type|location_region|ip_prefix|login_frequency|session_duration|purchase_pattern|age_group|risk_score|anomaly|\n",
            "+---------+---------------+-----------------+------+----------------+---------------+---------+---------------+----------------+----------------+---------+----------+-------+\n",
            "|        0|              0|                0|     0|               0|              0|        0|              0|               0|               0|        0|         0|      0|\n",
            "+---------+---------------+-----------------+------+----------------+---------------+---------+---------------+----------------+----------------+---------+----------+-------+\n",
            "\n"
          ]
        }
      ]
    },
    {
      "cell_type": "code",
      "source": [
        "#COUNT COM A COLUNA LOCAL_REGION = 0"
      ],
      "metadata": {
        "id": "cvX9uppwdL3x"
      },
      "execution_count": null,
      "outputs": []
    },
    {
      "cell_type": "code",
      "source": [
        "count_coluna_location_region_zerada = df.filter(df['location_region'] == '0').count()\n"
      ],
      "metadata": {
        "id": "ZbMHi30hs_Lc"
      },
      "execution_count": 16,
      "outputs": []
    },
    {
      "cell_type": "code",
      "source": [
        "count_coluna_location_region_zerada"
      ],
      "metadata": {
        "colab": {
          "base_uri": "https://localhost:8080/"
        },
        "id": "AZsA1dYdxFrF",
        "outputId": "3a645eb1-3a47-4eb4-d9ae-654cf8e8193a"
      },
      "execution_count": 17,
      "outputs": [
        {
          "output_type": "execute_result",
          "data": {
            "text/plain": [
              "50000"
            ]
          },
          "metadata": {},
          "execution_count": 17
        }
      ]
    },
    {
      "cell_type": "code",
      "source": [
        "#COUNT COM A COLUNA AMOUNT = NONE"
      ],
      "metadata": {
        "id": "ttid_fuGszMl"
      },
      "execution_count": null,
      "outputs": []
    },
    {
      "cell_type": "code",
      "source": [
        "count_coluna_amount_none = df.filter(df['amount'] == 'none').count()"
      ],
      "metadata": {
        "id": "02liW05btNOO"
      },
      "execution_count": 18,
      "outputs": []
    },
    {
      "cell_type": "code",
      "source": [
        "count_coluna_amount_none"
      ],
      "metadata": {
        "colab": {
          "base_uri": "https://localhost:8080/"
        },
        "id": "JsFaLLIkxaKw",
        "outputId": "d1a8a29a-9090-4043-b4d4-65966fd1ae68"
      },
      "execution_count": 19,
      "outputs": [
        {
          "output_type": "execute_result",
          "data": {
            "text/plain": [
              "50000"
            ]
          },
          "metadata": {},
          "execution_count": 19
        }
      ]
    },
    {
      "cell_type": "markdown",
      "source": [
        "# DF FINAL"
      ],
      "metadata": {
        "id": "IW8sTFjvuQDA"
      }
    },
    {
      "cell_type": "code",
      "source": [
        "df_final = df.filter(df['location_region'] != '0')\n",
        "\n"
      ],
      "metadata": {
        "id": "9pKOHi6duR-M"
      },
      "execution_count": 11,
      "outputs": []
    },
    {
      "cell_type": "code",
      "source": [
        "df_final.count()"
      ],
      "metadata": {
        "colab": {
          "base_uri": "https://localhost:8080/"
        },
        "id": "99yhqC4EzPPg",
        "outputId": "11ee58f1-7fea-4f3b-96b5-6a288a8e194b"
      },
      "execution_count": 12,
      "outputs": [
        {
          "output_type": "execute_result",
          "data": {
            "text/plain": [
              "9241892"
            ]
          },
          "metadata": {},
          "execution_count": 12
        }
      ]
    },
    {
      "cell_type": "code",
      "source": [
        "df_final = df_final.filter(df_final['amount'] != 'none')\n"
      ],
      "metadata": {
        "id": "ZdvJZKw1yBd5"
      },
      "execution_count": 13,
      "outputs": []
    },
    {
      "cell_type": "code",
      "source": [
        "df_final.count()"
      ],
      "metadata": {
        "colab": {
          "base_uri": "https://localhost:8080/"
        },
        "id": "Slon8rJW2MSf",
        "outputId": "6fb6e8f9-f78a-4da0-936b-ea3e289adb43"
      },
      "execution_count": 14,
      "outputs": [
        {
          "output_type": "execute_result",
          "data": {
            "text/plain": [
              "9192145"
            ]
          },
          "metadata": {},
          "execution_count": 14
        }
      ]
    },
    {
      "cell_type": "markdown",
      "source": [
        "COUNT APÓS TIRAR DUPLICADAS, LOCATION_REGION ==0 E AMOUNT == NONE"
      ],
      "metadata": {
        "id": "RFduP_3FyO08"
      }
    },
    {
      "cell_type": "code",
      "source": [
        "count_final = df_final.count()"
      ],
      "metadata": {
        "id": "3TLv5x65yLel"
      },
      "execution_count": 44,
      "outputs": []
    },
    {
      "cell_type": "code",
      "source": [
        "count_final"
      ],
      "metadata": {
        "colab": {
          "base_uri": "https://localhost:8080/"
        },
        "id": "WzNWhVBByf0S",
        "outputId": "92e9cbb0-6165-4216-c7bd-553548a9ef6d"
      },
      "execution_count": 28,
      "outputs": [
        {
          "output_type": "execute_result",
          "data": {
            "text/plain": [
              "0"
            ]
          },
          "metadata": {},
          "execution_count": 28
        }
      ]
    },
    {
      "cell_type": "markdown",
      "source": [
        "local_region = 0"
      ],
      "metadata": {
        "id": "8JPxaBs9dXv9"
      }
    },
    {
      "cell_type": "markdown",
      "source": [
        "# PERGUNTA 1"
      ],
      "metadata": {
        "id": "AUemaK1Lc6Fy"
      }
    },
    {
      "cell_type": "code",
      "source": [
        "\n",
        "p1 = df_final.groupBy(\"location_region\").agg(avg(\"risk_score\").alias(\"media_risk_score\"))\n",
        "\n",
        "\n"
      ],
      "metadata": {
        "id": "mn7gZxtxXNgo"
      },
      "execution_count": 15,
      "outputs": []
    },
    {
      "cell_type": "code",
      "source": [
        "p1_ordenado = p1.orderBy(col(\"media_risk_score\").desc())\n"
      ],
      "metadata": {
        "id": "oOqz4QFHbzIM"
      },
      "execution_count": 17,
      "outputs": []
    },
    {
      "cell_type": "code",
      "source": [
        "p1_ordenado.show()"
      ],
      "metadata": {
        "colab": {
          "base_uri": "https://localhost:8080/"
        },
        "id": "FF1OII3kb3fQ",
        "outputId": "f27b22cf-c952-4c25-9a65-f90a19a865b6"
      },
      "execution_count": 18,
      "outputs": [
        {
          "output_type": "stream",
          "name": "stdout",
          "text": [
            "+---------------+------------------+\n",
            "|location_region|  media_risk_score|\n",
            "+---------------+------------------+\n",
            "|  North America| 45.15483362554195|\n",
            "|  South America|45.139408383849265|\n",
            "|           Asia| 44.99454178762852|\n",
            "|         Africa| 44.90222970134172|\n",
            "|         Europe| 44.59870767602968|\n",
            "+---------------+------------------+\n",
            "\n"
          ]
        }
      ]
    },
    {
      "cell_type": "code",
      "source": [
        "p1_ordenado.printSchema()"
      ],
      "metadata": {
        "colab": {
          "base_uri": "https://localhost:8080/"
        },
        "id": "ApLU43QzjZ7R",
        "outputId": "3e784a9d-3eb6-4fbc-f85c-aab458b1d902"
      },
      "execution_count": 19,
      "outputs": [
        {
          "output_type": "stream",
          "name": "stdout",
          "text": [
            "root\n",
            " |-- location_region: string (nullable = true)\n",
            " |-- media_risk_score: double (nullable = true)\n",
            "\n"
          ]
        }
      ]
    },
    {
      "cell_type": "markdown",
      "source": [
        "# PERGUNTA 2"
      ],
      "metadata": {
        "id": "-XItTsJFd5X2"
      }
    },
    {
      "cell_type": "code",
      "source": [
        "df_p2 = df_final.filter(df_final[\"transaction_type\"] == \"sale\")\n"
      ],
      "metadata": {
        "id": "Hjb_cfOvefqS"
      },
      "execution_count": 20,
      "outputs": []
    },
    {
      "cell_type": "code",
      "source": [
        "#PARTICIONANDO PELA COLUNA RECEIVING_ADDRESS\n",
        "window_spec = Window.partitionBy(\"receiving_address\").orderBy(col(\"timestamp\").desc())\n"
      ],
      "metadata": {
        "id": "QPN0rmULlWan"
      },
      "execution_count": 21,
      "outputs": []
    },
    {
      "cell_type": "code",
      "source": [
        "df_p2_linhas_numeradas = df_p2.withColumn(\"row_number\", row_number().over(window_spec))\n"
      ],
      "metadata": {
        "id": "V7vykNwJlUoC"
      },
      "execution_count": 23,
      "outputs": []
    },
    {
      "cell_type": "code",
      "source": [
        "oferta_atual = df_p2_linhas_numeradas.filter(col(\"row_number\") == 1)\n"
      ],
      "metadata": {
        "id": "OnGxa0ffmzDQ"
      },
      "execution_count": 24,
      "outputs": []
    },
    {
      "cell_type": "code",
      "source": [
        "top_3_ofertas = oferta_atual.orderBy(col(\"amount\").desc()).limit(3)\n"
      ],
      "metadata": {
        "id": "yPYyaGMkm13C"
      },
      "execution_count": 26,
      "outputs": []
    },
    {
      "cell_type": "code",
      "source": [
        "p2_final = top_3_ofertas.select(\"receiving_address\", \"amount\", \"timestamp\")\n"
      ],
      "metadata": {
        "id": "xEaPG2Grm8Xv"
      },
      "execution_count": 27,
      "outputs": []
    },
    {
      "cell_type": "code",
      "source": [
        "p2_final.show()\n"
      ],
      "metadata": {
        "colab": {
          "base_uri": "https://localhost:8080/"
        },
        "id": "d0c9q5yUm-Ta",
        "outputId": "3dfb03c3-5705-46ee-b89e-74a1f73f4b64"
      },
      "execution_count": 28,
      "outputs": [
        {
          "output_type": "stream",
          "name": "stdout",
          "text": [
            "+--------------------+------+----------+\n",
            "|   receiving_address|amount| timestamp|\n",
            "+--------------------+------+----------+\n",
            "|0x9508352b847b315...|9991.0|1704140418|\n",
            "|0x16c9903f99897fa...|9858.0|1704199083|\n",
            "|0x9c90e60ef483c90...|9740.0|1704190903|\n",
            "+--------------------+------+----------+\n",
            "\n"
          ]
        }
      ]
    },
    {
      "cell_type": "code",
      "source": [
        "output_raw = \"/content/drive/MyDrive/localiza/lake_localiza/raw/raw.parquet\""
      ],
      "metadata": {
        "id": "0nNMGXhcpXRj"
      },
      "execution_count": 42,
      "outputs": []
    },
    {
      "cell_type": "code",
      "source": [
        "output_silver = \"/content/drive/MyDrive/localiza/lake_localiza/silver/silver.parquet\""
      ],
      "metadata": {
        "id": "tCQAHPTlp83E"
      },
      "execution_count": 40,
      "outputs": []
    },
    {
      "cell_type": "code",
      "source": [
        "output_gold_p1 = \"/content/drive/MyDrive/localiza/lake_localiza/gold/p1.parquet\""
      ],
      "metadata": {
        "id": "XE33WkfIpmPJ"
      },
      "execution_count": 30,
      "outputs": []
    },
    {
      "cell_type": "code",
      "source": [
        "output_gold_p2 = \"/content/drive/MyDrive/localiza/lake_localiza/gold/p2.parquet\""
      ],
      "metadata": {
        "id": "qlWbueCg6F-9"
      },
      "execution_count": 31,
      "outputs": []
    },
    {
      "cell_type": "code",
      "source": [
        "df_final.write.parquet(output_raw)"
      ],
      "metadata": {
        "id": "TCwwaQcbf_t1"
      },
      "execution_count": 43,
      "outputs": []
    },
    {
      "cell_type": "markdown",
      "source": [
        "TRATAMENTO PARA CAMADA PRATA"
      ],
      "metadata": {
        "id": "-DJNcU739uPD"
      }
    },
    {
      "cell_type": "code",
      "source": [
        "df_final.columns"
      ],
      "metadata": {
        "colab": {
          "base_uri": "https://localhost:8080/"
        },
        "id": "2LAXPUAf9xB7",
        "outputId": "99f67aa7-c99d-4fca-d8d6-cb04efed4791"
      },
      "execution_count": 36,
      "outputs": [
        {
          "output_type": "execute_result",
          "data": {
            "text/plain": [
              "['timestamp',\n",
              " 'sending_address',\n",
              " 'receiving_address',\n",
              " 'amount',\n",
              " 'transaction_type',\n",
              " 'location_region',\n",
              " 'ip_prefix',\n",
              " 'login_frequency',\n",
              " 'session_duration',\n",
              " 'purchase_pattern',\n",
              " 'age_group',\n",
              " 'risk_score',\n",
              " 'anomaly']"
            ]
          },
          "metadata": {},
          "execution_count": 36
        }
      ]
    },
    {
      "cell_type": "code",
      "source": [
        "# Renomeando as colunas do DataFrame para português\n",
        "df_silver = df_final \\\n",
        "    .withColumnRenamed('timestamp', 'data_hora') \\\n",
        "    .withColumnRenamed('sending_address', 'endereco_envio') \\\n",
        "    .withColumnRenamed('receiving_address', 'endereco_recebimento') \\\n",
        "    .withColumnRenamed('amount', 'quantidade') \\\n",
        "    .withColumnRenamed('transaction_type', 'tipo_transacao') \\\n",
        "    .withColumnRenamed('location_region', 'regiao_localizacao') \\\n",
        "    .withColumnRenamed('ip_prefix', 'prefixo_ip') \\\n",
        "    .withColumnRenamed('login_frequency', 'frequencia_login') \\\n",
        "    .withColumnRenamed('session_duration', 'duracao_sessao') \\\n",
        "    .withColumnRenamed('purchase_pattern', 'padrao_compra') \\\n",
        "    .withColumnRenamed('age_group', 'faixa_etaria') \\\n",
        "    .withColumnRenamed('risk_score', 'pontuacao_risco') \\\n",
        "    .withColumnRenamed('anomaly', 'anomalia')\n",
        "\n"
      ],
      "metadata": {
        "id": "pLuTqvMZ-8Na"
      },
      "execution_count": 37,
      "outputs": []
    },
    {
      "cell_type": "code",
      "source": [
        "df_silver.show(2)"
      ],
      "metadata": {
        "colab": {
          "base_uri": "https://localhost:8080/"
        },
        "id": "Ywi-RbSA_FIX",
        "outputId": "bae8f348-e041-4fa4-9770-c778bfbf1988"
      },
      "execution_count": 38,
      "outputs": [
        {
          "output_type": "stream",
          "name": "stdout",
          "text": [
            "+----------+--------------------+--------------------+----------+--------------+------------------+----------+----------------+--------------+-------------+------------+---------------+--------+\n",
            "| data_hora|      endereco_envio|endereco_recebimento|quantidade|tipo_transacao|regiao_localizacao|prefixo_ip|frequencia_login|duracao_sessao|padrao_compra|faixa_etaria|pontuacao_risco|anomalia|\n",
            "+----------+--------------------+--------------------+----------+--------------+------------------+----------+----------------+--------------+-------------+------------+---------------+--------+\n",
            "|1641908151|0xaa3037771832558...|0x94ed0de7f781533...|   18098.0|          sale|              Asia|    172.16|               1|            28|       random|         new|           42.0|low_risk|\n",
            "|1587247264|0xd5a98e35d92b478...|0xb66b0ca73fe4f58...|   71703.0|      transfer|     North America|      10.0|               3|            42|      focused| established|          18.75|low_risk|\n",
            "+----------+--------------------+--------------------+----------+--------------+------------------+----------+----------------+--------------+-------------+------------+---------------+--------+\n",
            "only showing top 2 rows\n",
            "\n"
          ]
        }
      ]
    },
    {
      "cell_type": "code",
      "source": [
        "df_silver.write.parquet(output_silver)"
      ],
      "metadata": {
        "id": "zCdk7FI7qYjr"
      },
      "execution_count": 41,
      "outputs": []
    },
    {
      "cell_type": "markdown",
      "source": [
        "TRATAMENTO CAMADO OURO"
      ],
      "metadata": {
        "id": "c5LRZ75TBdQQ"
      }
    },
    {
      "cell_type": "code",
      "source": [
        "p1_ordenado.write.parquet(output_gold_p1)"
      ],
      "metadata": {
        "id": "sO7MWPia6JeF"
      },
      "execution_count": 32,
      "outputs": []
    },
    {
      "cell_type": "code",
      "source": [
        "p2_final.write.parquet(output_gold_p2)"
      ],
      "metadata": {
        "id": "OT2fGfC46JVU"
      },
      "execution_count": 33,
      "outputs": []
    },
    {
      "cell_type": "code",
      "source": [
        "spark.stop()"
      ],
      "metadata": {
        "id": "q9rerhZ715ip"
      },
      "execution_count": 21,
      "outputs": []
    },
    {
      "cell_type": "code",
      "source": [],
      "metadata": {
        "id": "bzOlxc3V15cL"
      },
      "execution_count": null,
      "outputs": []
    }
  ]
}